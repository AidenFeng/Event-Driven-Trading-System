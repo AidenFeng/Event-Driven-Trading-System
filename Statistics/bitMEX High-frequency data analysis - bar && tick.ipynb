{
 "cells": [
  {
   "cell_type": "code",
   "execution_count": null,
   "metadata": {
    "collapsed": true
   },
   "outputs": [],
   "source": [
    "import pandas as pd\n",
    "import numpy as np\n",
    "%matplotlib inline\n",
    "import matplotlib.pyplot as plt\n",
    "\n",
    "from bitmexHistoryData import bitmexHistoryBarData, bitmexHistoryTickData"
   ]
  },
  {
   "cell_type": "code",
   "execution_count": null,
   "metadata": {
    "collapsed": true
   },
   "outputs": [],
   "source": [
    "symbol = 'XBTUSD'\n",
    "trading_date = '2022-03-11'\n",
    "startTime = '2022-03-11 17:16:00'\n",
    "endTime = '2022-03-11 17:19:00'"
   ]
  },
  {
   "cell_type": "markdown",
   "metadata": {},
   "source": [
    "## Bar Data"
   ]
  },
  {
   "cell_type": "code",
   "execution_count": null,
   "metadata": {
    "collapsed": false
   },
   "outputs": [],
   "source": [
    "bm_bar_data = bitmexHistoryBarData(symbol, '1m', start=trading_date, end=trading_date)\n",
    "bm_bar_data.get_history_bar_data()\n",
    "df = bm_bar_data.data"
   ]
  },
  {
   "cell_type": "code",
   "execution_count": null,
   "metadata": {
    "collapsed": false
   },
   "outputs": [],
   "source": [
    "df = df.set_index(pd.to_datetime(df.timestamp))\n",
    "df.close.plot(figsize=(18,9))"
   ]
  },
  {
   "cell_type": "markdown",
   "metadata": {},
   "source": [
    "## Tick Data"
   ]
  },
  {
   "cell_type": "code",
   "execution_count": null,
   "metadata": {
    "collapsed": false
   },
   "outputs": [],
   "source": [
    "bm_tick_data = bitmexHistoryTickData(symbol, startTime, endTime)\n",
    "bm_tick_data.get_history_tick_data()\n",
    "df = bm_tick_data.data\n",
    "\n",
    "df = df.set_index(pd.to_datetime(df.timestamp))"
   ]
  },
  {
   "cell_type": "code",
   "execution_count": null,
   "metadata": {
    "collapsed": false
   },
   "outputs": [],
   "source": [
    "df.price.plot(figsize=(32,8))"
   ]
  },
  {
   "cell_type": "code",
   "execution_count": null,
   "metadata": {
    "collapsed": false
   },
   "outputs": [],
   "source": [
    "df[(df.index > '2022-03-11T17:16:00.000Z') & \n",
    "   (df.index < '2022-03-11T17:16:59.999Z')]['price'].plot(figsize=(18,6))"
   ]
  },
  {
   "cell_type": "code",
   "execution_count": null,
   "metadata": {
    "collapsed": true
   },
   "outputs": [],
   "source": []
  },
  {
   "cell_type": "code",
   "execution_count": null,
   "metadata": {
    "collapsed": false
   },
   "outputs": [],
   "source": [
    "symbol = 'XBTUSD'\n",
    "trading_date = '2022-03-11'\n",
    "startTime = '2022-03-12 12:48:00'\n",
    "endTime = '2022-03-12 12:51:00'\n",
    "\n",
    "a = bitmexHistoryTickData(symbol, startTime, endTime)\n",
    "a.get_history_tick_data()"
   ]
  },
  {
   "cell_type": "code",
   "execution_count": null,
   "metadata": {
    "collapsed": false
   },
   "outputs": [],
   "source": [
    "df = a.data\n",
    "df = df.set_index(pd.to_datetime(df.timestamp))\n",
    "df.price.plot(figsize=(18,6))"
   ]
  },
  {
   "cell_type": "code",
   "execution_count": null,
   "metadata": {
    "collapsed": false
   },
   "outputs": [],
   "source": [
    "df2 = df[(df.index > '2022-03-12 12:49:10') & \n",
    "         (df.index < '2022-03-12 12:49:50')]\n",
    "\n",
    "# Two subplots, the axes array is 1-d\n",
    "f, axarr = plt.subplots(2, sharex=True, figsize=(16,9))\n",
    "axarr[0].plot(df2.index, df2.price)\n",
    "axarr[1].plot(df2.index, df2['size'])"
   ]
  },
  {
   "cell_type": "code",
   "execution_count": null,
   "metadata": {
    "collapsed": true
   },
   "outputs": [],
   "source": []
  }
 ],
 "metadata": {
  "kernelspec": {
   "display_name": "Python [Root]",
   "language": "python",
   "name": "Python [Root]"
  },
  "language_info": {
   "codemirror_mode": {
    "name": "ipython",
    "version": 3
   },
   "file_extension": ".py",
   "mimetype": "text/x-python",
   "name": "python",
   "nbconvert_exporter": "python",
   "pygments_lexer": "ipython3",
   "version": "3.5.2"
  }
 },
 "nbformat": 4,
 "nbformat_minor": 2
}

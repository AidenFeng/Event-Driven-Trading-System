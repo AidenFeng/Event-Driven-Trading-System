{
 "cells": [
  {
   "cell_type": "markdown",
   "metadata": {},
   "source": [
    "# Huobi/BitMEX high-frequency arbitrage strategy research"
   ]
  },
  {
   "cell_type": "markdown",
   "metadata": {},
   "source": [
    "## Price Gap analysis"
   ]
  },
  {
   "cell_type": "code",
   "execution_count": null,
   "metadata": {
    "collapsed": true
   },
   "outputs": [],
   "source": [
    "%matplotlib inline\n",
    "import matplotlib.pyplot as plt\n",
    "import numpy as np\n",
    "import pandas as pd"
   ]
  },
  {
   "cell_type": "code",
   "execution_count": null,
   "metadata": {
    "collapsed": false
   },
   "outputs": [],
   "source": [
    "df = pd.read_csv('../data/saved_price_diff_20220308.csv')"
   ]
  },
  {
   "cell_type": "code",
   "execution_count": null,
   "metadata": {
    "collapsed": false
   },
   "outputs": [],
   "source": [
    "df.columns = df.columns.str.strip()\n",
    "df['snapshotTime'] = df.snapshotTime.astype('datetime64[ns]')\n",
    "df = df.set_index('snapshotTime')\n",
    "\n",
    "df.head()"
   ]
  },
  {
   "cell_type": "code",
   "execution_count": null,
   "metadata": {
    "collapsed": false
   },
   "outputs": [],
   "source": [
    "# plot price_diff\n",
    "\n",
    "def price_diff_plot(df):\n",
    "    with plt.style.context('classic'):\n",
    "        fig, axs = plt.subplots(2,1, figsize=(16,9))\n",
    "        \n",
    "        #df['spread_last'].plot(ax=axs[0], label='spread: last_price')\n",
    "        df['spread_bid'].plot(ax=axs[0], label='spread: bid')\n",
    "        df['spread_ask'].plot(ax=axs[0], label='spread: ask')\n",
    "        axs[0].legend()\n",
    "\n",
    "        df['huobiPrice'].plot(ax=axs[1], label='huobi')\n",
    "        df['huobi_bid1'].plot(ax=axs[1], label='huobi_bid')\n",
    "        df['huobi_ask1'].plot(ax=axs[1], label='huobi_ask')\n",
    "        df['bitmexPrice'].plot(ax=axs[1], label='bitmex')\n",
    "        df['bitmex_bid1'].plot(ax=axs[1], label='bitmex_bid')\n",
    "        df['bitmex_ask1'].plot(ax=axs[1], label='bitmex_ask')\n",
    "        axs[1].legend()"
   ]
  },
  {
   "cell_type": "code",
   "execution_count": null,
   "metadata": {
    "collapsed": false
   },
   "outputs": [],
   "source": [
    "price_diff_plot(df.iloc[:50000])"
   ]
  },
  {
   "cell_type": "code",
   "execution_count": null,
   "metadata": {
    "collapsed": false
   },
   "outputs": [],
   "source": [
    "# sub time frame\n",
    "\n",
    "sub_df = df[(np.datetime64('2022-03-04 15:52:00') < df.index.values) & \n",
    "            (df.index.values < np.datetime64('2022-03-04 16:01:59'))]\n",
    "price_diff_plot(sub_df)"
   ]
  },
  {
   "cell_type": "markdown",
   "metadata": {},
   "source": [
    "research:\n",
    "\n",
    "- [DONE] record bid, ask    \n",
    "- [DONE] use spread-trading price diff\n",
    "    + spread_ask. Price of Long sparead (long huobi, short bitmex): huobi_ask - bitmex_bid \n",
    "    + spread_bid. Price of Short Sparead (short huobi, long bitmex): huobi_bid - bitmex_ask\n",
    "\n",
    "tech:\n",
    "\n",
    "- use db\n"
   ]
  },
  {
   "cell_type": "code",
   "execution_count": null,
   "metadata": {
    "collapsed": true
   },
   "outputs": [],
   "source": []
  }
 ],
 "metadata": {
  "anaconda-cloud": {},
  "kernelspec": {
   "display_name": "Python [Root]",
   "language": "python",
   "name": "Python [Root]"
  },
  "language_info": {
   "codemirror_mode": {
    "name": "ipython",
    "version": 3
   },
   "file_extension": ".py",
   "mimetype": "text/x-python",
   "name": "python",
   "nbconvert_exporter": "python",
   "pygments_lexer": "ipython3",
   "version": "3.5.2"
  }
 },
 "nbformat": 4,
 "nbformat_minor": 2
}

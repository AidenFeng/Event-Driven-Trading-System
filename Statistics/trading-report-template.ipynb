{
 "cells": [
  {
   "cell_type": "raw",
   "metadata": {},
   "source": [
    "\n",
    "$ runipy trading-report-template.ipynb  --overwrite\n",
    "$ jupyter nbconvert --to html trading-report-template.ipynb"
   ]
  },
  {
   "cell_type": "markdown",
   "metadata": {},
   "source": [
    "### Findings\n",
    "\n",
    "- Bitmex only seems to be able to look up the history of trades and orders in the last few days. If I log in to the website at 18pm on October 27, I can only find transaction records and trust records since October 22\n",
    "Textnet tests found that cancelled orders disappear after about 10 minutes, both on the web page and reST-API (/execution).\n",
    "- Firm transaction prices may be outside the historical K-line range of RESTFUL API queries. Verified by firm offer transaction records (4 payments made on October 24 for the self-operated account)"
   ]
  },
  {
   "cell_type": "code",
   "execution_count": null,
   "metadata": {
    "collapsed": false
   },
   "outputs": [],
   "source": [
    "import datetime\n",
    "\n",
    "report_days = 2   # Reports within the last 2 days\n",
    "\n",
    "report_from = datetime.datetime.now() - datetime.timedelta(days=report_days) \n",
    "startTime = datetime.datetime.strftime(report_from, '%Y-%m-%d') # '2022-03-01'\n",
    "endTime = None\n",
    "symbol = 'XBTUSD'\n",
    "bar_type = '5m'\n",
    "\n",
    "account_settings_file = '../bitmex/BITMEX_connect.json'\n",
    "which = 'real_trading_LIAOWEI'  #'account_test'"
   ]
  },
  {
   "cell_type": "code",
   "execution_count": null,
   "metadata": {
    "collapsed": false
   },
   "outputs": [],
   "source": [
    "import sys\n",
    "sys.path.append(\"../\")\n",
    "\n",
    "from bitmex.bitmexREST import bitmexREST\n",
    "from bitmex.bitmexAccountSettings import bitmexAccountSettings\n",
    "\n",
    "import pandas as pd\n",
    "%matplotlib inline\n",
    "import matplotlib.pyplot as plt\n",
    "pd.set_option(\"display.max_columns\",101)"
   ]
  },
  {
   "cell_type": "code",
   "execution_count": null,
   "metadata": {
    "collapsed": false
   },
   "outputs": [],
   "source": [
    "acc = bitmexAccountSettings()\n",
    "acc.from_config_file(account_settings_file, which)"
   ]
  },
  {
   "cell_type": "code",
   "execution_count": null,
   "metadata": {
    "collapsed": true
   },
   "outputs": [],
   "source": [
    "rest = bitmexREST(apiKey=acc.apiKey, apiSecret=acc.apiSecret, isTestNet=acc.isTestNet)"
   ]
  },
  {
   "cell_type": "markdown",
   "metadata": {},
   "source": [
    "## Review, check trades, trade quality analysis"
   ]
  },
  {
   "cell_type": "code",
   "execution_count": null,
   "metadata": {
    "collapsed": false
   },
   "outputs": [],
   "source": [
    "# execution\n",
    "\n",
    "execution_result = rest.query_history_execution(symbol, startTime, endTime)\n",
    "df_exec = pd.DataFrame(execution_result)\n",
    "df_exec['DATETIME'] = pd.to_datetime(df_exec['transactTime'])\n",
    "#df_exec.head()"
   ]
  },
  {
   "cell_type": "code",
   "execution_count": null,
   "metadata": {
    "collapsed": false,
    "scrolled": true
   },
   "outputs": [],
   "source": [
    "# order\n",
    "\n",
    "order_result = rest.query_history_order(symbol, startTime, endTime)\n",
    "df_order = pd.DataFrame(order_result)\n",
    "df_order['DATETIME'] = pd.to_datetime(df_order['transactTime'])\n",
    "#df_order   # side, price, DATETIME"
   ]
  },
  {
   "cell_type": "code",
   "execution_count": null,
   "metadata": {
    "collapsed": true
   },
   "outputs": [],
   "source": [
    "# position\n",
    "\n",
    "# The REST API does not have historical position change queries. You can only find open positions on the current time cross section.\n",
    "# Websocket API can take real-time position changes."
   ]
  },
  {
   "cell_type": "code",
   "execution_count": null,
   "metadata": {
    "collapsed": false
   },
   "outputs": [],
   "source": [
    "symbol, startTime, endTime, bar_type"
   ]
  },
  {
   "cell_type": "code",
   "execution_count": null,
   "metadata": {
    "collapsed": false
   },
   "outputs": [],
   "source": [
    "rest_no_auth = bitmexREST(None, None, True)\n",
    "market_result = rest_no_auth.query_history_bars(symbol, startTime, endTime, bar_type)"
   ]
  },
  {
   "cell_type": "code",
   "execution_count": null,
   "metadata": {
    "collapsed": false
   },
   "outputs": [],
   "source": [
    "df_market = pd.DataFrame(market_result)\n",
    "df_market['DATETIME'] = pd.to_datetime(df_market['timestamp'])\n",
    "df_market['DATE'] = [x.date() for x in df_market.DATETIME]"
   ]
  },
  {
   "cell_type": "code",
   "execution_count": null,
   "metadata": {
    "collapsed": false
   },
   "outputs": [],
   "source": [
    "df_market.head()"
   ]
  },
  {
   "cell_type": "code",
   "execution_count": null,
   "metadata": {
    "collapsed": false
   },
   "outputs": [],
   "source": [
    "from qsPlot import ohlc_plot\n",
    "plt.style.use('bmh')\n",
    "\n",
    "\n",
    "fig, ax = plt.subplots(figsize=(18,6))\n",
    "ohlc_plot(ax, df_market, t_='DATETIME', width_=0.5, n_=24)\n",
    "_=plt.xticks(rotation=45)"
   ]
  },
  {
   "cell_type": "code",
   "execution_count": null,
   "metadata": {
    "collapsed": false
   },
   "outputs": [],
   "source": [
    "df_Exec_Trade_Buy = df_exec.query('execType == \"Trade\" & side==\"Buy\"')\n",
    "df_Exec_Trade_Sell = df_exec.query('execType == \"Trade\" & side==\"Sell\"')\n",
    "\n",
    "df_Exec_New = df_exec.query('execType == \"New\"')\n",
    "df_Exec_Canceled = df_exec.query('execType == \"Canceled\"')\n",
    "\n",
    "print('Buy: %d'% len(df_Exec_Trade_Buy))\n",
    "print('Sell: %d'% len(df_Exec_Trade_Sell))\n",
    "print('New: %d' % len(df_Exec_New))\n",
    "print('Canceled: %d' % len(df_Exec_Canceled))"
   ]
  },
  {
   "cell_type": "code",
   "execution_count": null,
   "metadata": {
    "collapsed": false
   },
   "outputs": [],
   "source": [
    "df_Order_Buy = df_order.query('side == \"Buy\"')\n",
    "df_Order_Sell = df_order.query('side == \"Sell\"')\n",
    "\n",
    "print('Order_Buy: %s' % len(df_Order_Buy))\n",
    "print('Order_Sell: %s' % len(df_Order_Sell))\n",
    "print('Order time range: %s' % (df_order.DATETIME.values[[0, -1]]))"
   ]
  },
  {
   "cell_type": "code",
   "execution_count": null,
   "metadata": {
    "collapsed": false
   },
   "outputs": [],
   "source": [
    "fig,axs = plt.subplots(2, 1, sharex=True, figsize=(16, 9), gridspec_kw = {'height_ratios':[3, 1]})\n",
    "fig.tight_layout()\n",
    "fig.suptitle('%s, %s ~ %s, %s. Account: %s' % (symbol, startTime, endTime, bar_type, which))\n",
    "\n",
    "ax = axs[0]\n",
    "\n",
    "# marketprice\n",
    "ax.plot(df_market.DATETIME, df_market.close, color='k')\n",
    "ax.plot(df_market.DATETIME, df_market.high, color='grey')\n",
    "ax.plot(df_market.DATETIME, df_market.low, color='grey')\n",
    "\n",
    "# execution\n",
    "ax.plot(df_Exec_Trade_Buy.DATETIME, df_Exec_Trade_Buy['lastPx'], 's', color='red', alpha=0.5)\n",
    "ax.plot(df_Exec_Trade_Sell.DATETIME, df_Exec_Trade_Sell['lastPx'], 's', color='lightgreen', alpha=0.5)\n",
    "#ax.plot(df_Exec_New.DATETIME, df_Exec_New['price'], 'o', color='blue')\n",
    "#ax.plot(df_Exec_Canceled.DATETIME, df_Exec_Canceled['price'], '*', color='blue')\n",
    "\n",
    "# order\n",
    "#ax.plot(df_Order_Buy.DATETIME, df_Order_Buy['avgPx'], 'o', color='orange')\n",
    "#ax.plot(df_Order_Sell.DATETIME, df_Order_Sell['avgPx'], 'o', color='skyblue')\n",
    "ax.plot(df_Order_Buy.DATETIME, df_Order_Buy['price'], 'x', color='orange')\n",
    "ax.plot(df_Order_Sell.DATETIME, df_Order_Sell['price'], 'x', color='skyblue')\n",
    "\n",
    "from matplotlib.dates import DateFormatter\n",
    "\n",
    "ax.xaxis.set_major_formatter(DateFormatter('%b%d %H:%M:%S'))\n",
    "#_=plt.xticks(rotation=45)\n",
    "#_=ax.set_title('%s, %s, %s ~ %s, %s' % (acc.account, symbol, startTime, endTime, bar_type))\n",
    "\n",
    "ax2 = axs[1]\n",
    "ax2.bar(df_Exec_Trade_Buy.DATETIME, df_Exec_Trade_Buy['lastQty'], width=0.01, color='red', alpha=0.5)\n",
    "ax2.bar(df_Exec_Trade_Sell.DATETIME, df_Exec_Trade_Sell['lastQty'], width=0.01, color='lightgreen', alpha=0.5)\n",
    "\n",
    "ax2.plot(df_Order_Buy.DATETIME, df_Order_Buy['orderQty'], 'x', color='orange')\n",
    "ax2.plot(df_Order_Sell.DATETIME, df_Order_Sell['orderQty'], 'x', color='skyblue')"
   ]
  },
  {
   "cell_type": "code",
   "execution_count": null,
   "metadata": {
    "collapsed": false
   },
   "outputs": [],
   "source": []
  },
  {
   "cell_type": "markdown",
   "metadata": {},
   "source": [
    "关于 REST \\order 的几个结论\n",
    "\n",
    "1. 历史数据只有**已完成订单**的记录。\n",
    "    - ordStatus只有Filled， 之前已经发现，New和Canceled过几分钟之后就会消失。\n",
    "    - all(workingIndicator == False)\n",
    "    - all(leavesQty == 0)\n",
    "    - all(cumQty == orderQty)\n",
    "2. 一行一个OrderID"
   ]
  },
  {
   "cell_type": "code",
   "execution_count": null,
   "metadata": {
    "collapsed": false
   },
   "outputs": [],
   "source": [
    "df_order.ordStatus.unique()   # [Filled]\n",
    "df_order.workingIndicator.unique()  # [False]\n",
    "df_order.leavesQty.unique()   # [0]\n",
    "all(df_order.cumQty == df_order.orderQty)  # True\n",
    "\n",
    "len(df_order.orderID.unique()) == len(df_order)   # True\n",
    "\n",
    "df_order.ordType.unique()  # [Limit]\n",
    "df_order.side.unique()  # [Buy, Sell]\n",
    "\n",
    "df_order.columns"
   ]
  },
  {
   "cell_type": "markdown",
   "metadata": {},
   "source": [
    "## The wallet balance"
   ]
  },
  {
   "cell_type": "code",
   "execution_count": null,
   "metadata": {
    "collapsed": false
   },
   "outputs": [],
   "source": [
    "wallet_result = rest.query_history_wallet(currency='XBt')\n",
    "\n",
    "df_wallet = pd.DataFrame(wallet_result)"
   ]
  },
  {
   "cell_type": "code",
   "execution_count": null,
   "metadata": {
    "collapsed": false
   },
   "outputs": [],
   "source": [
    "len(df_wallet)   "
   ]
  },
  {
   "cell_type": "code",
   "execution_count": null,
   "metadata": {
    "collapsed": false
   },
   "outputs": [],
   "source": [
    "df_wallet.timestamp.iloc[0], df_wallet.timestamp.iloc[-1]"
   ]
  },
  {
   "cell_type": "code",
   "execution_count": null,
   "metadata": {
    "collapsed": false
   },
   "outputs": [],
   "source": [
    "df_wallet['DATETIME'] = pd.to_datetime(df_wallet['timestamp'])\n",
    "df_wallet['DATE'] = [x.date() for x in df_wallet['DATETIME']]\n",
    "#df_wallet = df_wallet.set_index('DATE')"
   ]
  },
  {
   "cell_type": "code",
   "execution_count": null,
   "metadata": {
    "collapsed": false
   },
   "outputs": [],
   "source": [
    "#df_wallet"
   ]
  },
  {
   "cell_type": "code",
   "execution_count": null,
   "metadata": {
    "collapsed": true
   },
   "outputs": [],
   "source": [
    "# Drawing time window\n",
    "wallet_start = '2022-03-01'\n",
    "df_wallet_plot = df_wallet.loc[df_wallet.DATE.astype(str) > wallet_start]\n",
    "df_wallet_plot = df_wallet_plot.loc[1:]\n",
    "\n",
    "# XBT unit\n",
    "xbt_unit_dict = {\n",
    "    'mXBT': 1e5,\n",
    "    'XBT': 1e8\n",
    "}\n",
    "\n",
    "xbt_unit = 'XBT'\n",
    "\n",
    "df_wallet_plot['amount'] = df_wallet_plot['amount'] / xbt_unit_dict[xbt_unit]\n",
    "df_wallet_plot['walletBalance'] = df_wallet_plot['walletBalance'] / xbt_unit_dict[xbt_unit]\n",
    "\n",
    "# capital inflow and outflow\n",
    "df_wallet_deposit = df_wallet_plot[df_wallet_plot.transactType == 'Deposit']\n",
    "df_wallet_withdrawal = df_wallet_plot[df_wallet_plot.transactType == 'Withdrawal']\n",
    "\n",
    "# Accumulated trading profit and loss (excluding capital inflow and outflow)\n",
    "df_transaction_pnl = df_wallet_plot[df_wallet_plot.transactType == 'RealisedPNL']\n",
    "df_transaction_pnl = df_transaction_pnl.reindex()\n",
    "df_transaction_pnl['cum_pnl'] = (-df_transaction_pnl['amount']).cumsum()  # ？？？ -amount"
   ]
  },
  {
   "cell_type": "code",
   "execution_count": null,
   "metadata": {
    "collapsed": false
   },
   "outputs": [],
   "source": [
    "plt.style.use('bmh')\n",
    "fig, axs = plt.subplots(4, 1, sharex=True, figsize=(16, 12))\n",
    "fig.suptitle('%s  (Y-axis unit:%s)' % (which, xbt_unit))\n",
    "\n",
    "axs[0].plot(df_wallet_plot['DATE'], df_wallet_plot['walletBalance'])\n",
    "axs[0].set_title('Wallet Balance (including deposit && widthdraw)')\n",
    "\n",
    "axs[1].set_title('Wallet Balance daily change (including deposit && widthdraw)')\n",
    "axs[1].bar(df_wallet_plot['DATE'], df_wallet_plot['amount'])\n",
    "axs[1].bar(df_wallet_deposit['DATE'], df_wallet_deposit['amount'], label='deposit')\n",
    "#axs[1].bar(df_wallet_withdrawal['DATE'], df_wallet_withdrawal['amount'], label='widthdrawal')\n",
    "axs[1].legend()\n",
    "\n",
    "axs[2].set_title('cummulative transaction pnl')\n",
    "axs[2].plot(df_transaction_pnl['DATE'], df_transaction_pnl['cum_pnl'], color='C4')\n",
    "\n",
    "axs[3].set_title('daily transaction pnl')\n",
    "axs[3].bar(df_transaction_pnl['DATE'], df_transaction_pnl['amount'], color='C5')"
   ]
  },
  {
   "cell_type": "code",
   "execution_count": null,
   "metadata": {
    "collapsed": true
   },
   "outputs": [],
   "source": []
  }
 ],
 "metadata": {
  "anaconda-cloud": {},
  "kernelspec": {
   "display_name": "Python [Root]",
   "language": "python",
   "name": "Python [Root]"
  },
  "language_info": {
   "codemirror_mode": {
    "name": "ipython",
    "version": 3
   },
   "file_extension": ".py",
   "mimetype": "text/x-python",
   "name": "python",
   "nbconvert_exporter": "python",
   "pygments_lexer": "ipython3",
   "version": "3.5.2"
  }
 },
 "nbformat": 4,
 "nbformat_minor": 0
}

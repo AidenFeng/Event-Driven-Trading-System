{
 "cells": [
  {
   "cell_type": "code",
   "execution_count": null,
   "metadata": {
    "collapsed": true
   },
   "outputs": [],
   "source": [
    "import pandas as pd\n",
    "import numpy as np\n",
    "%matplotlib inline\n",
    "import matplotlib.pyplot as plt\n",
    "import datetime\n",
    "\n",
    "from bitmexHistoryData import bitmexHistoryBarData, bitmexHistoryTickData"
   ]
  },
  {
   "cell_type": "code",
   "execution_count": null,
   "metadata": {
    "collapsed": true
   },
   "outputs": [],
   "source": [
    "symbol = 'XBTUSD'\n",
    "startTime = '2022-03-14 11:23:10'\n",
    "endTime = '2022-03-14 11:24:00'"
   ]
  },
  {
   "cell_type": "code",
   "execution_count": null,
   "metadata": {
    "collapsed": false,
    "scrolled": true
   },
   "outputs": [],
   "source": [
    "bm_tick_data = bitmexHistoryTickData(symbol, startTime, endTime)\n",
    "bm_tick_data.get_history_tick_data()\n",
    "df = bm_tick_data.data\n",
    "\n",
    "df = df.set_index(pd.to_datetime(df.timestamp))  # TODO: 写进类里面\n",
    "\n",
    "df['timestamp_min'] = df.index.values.astype('datetime64[m]')\n",
    "df['timestamp_sec'] = df.index.values.astype('datetime64[s]')"
   ]
  },
  {
   "cell_type": "code",
   "execution_count": null,
   "metadata": {
    "collapsed": false
   },
   "outputs": [],
   "source": [
    "#df.head()"
   ]
  },
  {
   "cell_type": "code",
   "execution_count": null,
   "metadata": {
    "collapsed": false
   },
   "outputs": [],
   "source": [
    "#sdf = df[df.timestamp_min == '2022-03-14 07:37:00']\n",
    "#sdf = df[df.timestamp_sec > '2022-03-14 09:57:21']\n",
    "sdf = df.copy()\n",
    "sdf.head(3)"
   ]
  },
  {
   "cell_type": "code",
   "execution_count": null,
   "metadata": {
    "collapsed": true
   },
   "outputs": [],
   "source": [
    "# plot vlins: by second\n",
    "seps = sdf.timestamp_sec.unique()"
   ]
  },
  {
   "cell_type": "code",
   "execution_count": null,
   "metadata": {
    "collapsed": true
   },
   "outputs": [],
   "source": [
    "# aggregate by 500ms, calculate net sell/buy\n",
    "def group_datetime64(s, num, unit):\n",
    "    order_map = {'m':'h', 's':'m', 'ms':'s'}\n",
    "    if not isinstance(num, int):\n",
    "        raise ValueError('num must be int')\n",
    "    if not unit in order_map.keys():\n",
    "        raise ValueError('unit must in %s' % order_map.keys())\n",
    "    upper_unit = order_map[unit]    \n",
    "    upper_unit_s = s.astype('datetime64[%s]' % upper_unit)\n",
    "    initial_s = s.astype('datetime64[%s]' % unit)\n",
    "    return (np.ceil((initial_s - upper_unit_s).astype(int) / num) * num).astype('timedelta64[%s]' % unit) + upper_unit_s"
   ]
  },
  {
   "cell_type": "code",
   "execution_count": null,
   "metadata": {
    "collapsed": false
   },
   "outputs": [],
   "source": [
    "sdf['timestamp_group'] = group_datetime64(sdf.index.values, 500, 'ms')"
   ]
  },
  {
   "cell_type": "code",
   "execution_count": null,
   "metadata": {
    "collapsed": false
   },
   "outputs": [],
   "source": [
    "def aggregate_func(df):\n",
    "    sell_size = df.loc[df['side'] == 'Sell', 'size'].sum()\n",
    "    buy_size = df.loc[df['side'] == 'Buy', 'size'].sum()\n",
    "    netbuy = buy_size - sell_size\n",
    "    sell_buy_ratio = (buy_size - sell_size) / (sell_size + buy_size)\n",
    "    return pd.DataFrame([{'buysize': buy_size, 'sellsize': sell_size, 'netbuy': netbuy, 'sbratio': sell_buy_ratio}])\n",
    "\n",
    "df_throttled = sdf.groupby('timestamp_group').apply(aggregate_func)\n",
    "df_throttled.reset_index(level=1, drop=True, inplace=True)"
   ]
  },
  {
   "cell_type": "code",
   "execution_count": null,
   "metadata": {
    "collapsed": false,
    "scrolled": false
   },
   "outputs": [],
   "source": [
    "f, ax = plt.subplots(3, sharex=True, figsize=(16,9))\n",
    "\n",
    "ax[0].plot(sdf.price, '*-')\n",
    "ax[0].vlines(seps, ymin=sdf.price.min(), ymax=sdf.price.max(), colors='lightgrey')\n",
    "\n",
    "# ax[1].plot(df_throttled.netbuy, color='orange')\n",
    "ax[1].vlines(seps, ymin=-sdf['size'].max(), ymax=sdf['size'].max(), colors='lightgrey')\n",
    "\n",
    "sdf_buy = sdf[sdf.side == 'Buy']\n",
    "sdf_sell = sdf[sdf.side == 'Sell']\n",
    "ax[1].vlines(sdf_buy.index.values, ymin=0, ymax=sdf_buy['size'], colors='red')\n",
    "ax[1].vlines(sdf_sell.index.values, ymin=-sdf_sell['size'], ymax=0, colors='green')\n",
    "\n",
    "# TODO: group by spread\n",
    "# sdf_buy['cumsize'] = np.cumsum(sdf_buy['size'])\n",
    "# sdf_sell['cumsize'] = np.cumsum(sdf_sell['size'])\n",
    "# ax[2].plot(sdf_buy.cumsize)\n",
    "# ax[2].plot(sdf_sell.cumsize)\n",
    "\n",
    "ax[2].plot(df_throttled.sbratio, color='orange')\n",
    "ax[2].vlines(seps, ymin=-1, ymax=1, colors='lightgrey')\n",
    "ax[2].hlines(0.0, xmin=df_throttled.index.values.min(), xmax=df_throttled.index.values.max(), colors='lightgrey')\n",
    "\n",
    "plt.show()"
   ]
  },
  {
   "cell_type": "code",
   "execution_count": null,
   "metadata": {
    "collapsed": true
   },
   "outputs": [],
   "source": []
  },
  {
   "cell_type": "code",
   "execution_count": null,
   "metadata": {
    "collapsed": true
   },
   "outputs": [],
   "source": []
  },
  {
   "cell_type": "code",
   "execution_count": null,
   "metadata": {
    "collapsed": true
   },
   "outputs": [],
   "source": []
  }
 ],
 "metadata": {
  "anaconda-cloud": {},
  "kernelspec": {
   "display_name": "Python [Root]",
   "language": "python",
   "name": "Python [Root]"
  },
  "language_info": {
   "codemirror_mode": {
    "name": "ipython",
    "version": 3
   },
   "file_extension": ".py",
   "mimetype": "text/x-python",
   "name": "python",
   "nbconvert_exporter": "python",
   "pygments_lexer": "ipython3",
   "version": "3.5.2"
  }
 },
 "nbformat": 4,
 "nbformat_minor": 2
}
